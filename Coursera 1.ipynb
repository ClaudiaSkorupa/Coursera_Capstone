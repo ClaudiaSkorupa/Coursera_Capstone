{
 "cells": [
  {
   "cell_type": "code",
   "execution_count": null,
   "metadata": {
    "collapsed": true
   },
   "outputs": [],
   "source": [
    "from bs4 import BeautifulSoup\n",
    "import requests\n",
    "import pandas as pd\n",
    "link = \"https://en.wikipedia.org/wiki/List_of_postal_codes_of_Canada:_M\"\n",
    "dfile = requests.get(link).text\n",
    "Canada_data = BeautifulSoup(dile, 'lxml')\n",
    "lista= ['Postalcode','Borough','Neighborhood']\n",
    "torontodf = pd.DataFrame(columns =lista)\n",
    "candata = Canada_data.find('div', class_='mw-parser-output')\n",
    "table = candata.table.tbody\n",
    "post = 0\n",
    "bor = 0\n",
    "neigh = 0\n",
    "\n",
    "for tr in table.find_all('tr'):\n",
    "    i = 0\n",
    "    for td in tr.find_all('td'):\n",
    "        if i == 0:\n",
    "            post = td.text\n",
    "            i = i + 1\n",
    "        elif i == 1:\n",
    "            bor= td.text\n",
    "            i = i + 1\n",
    "        elif i == 2: \n",
    "            neigh = td.text.strip('\\n').replace(']','')\n",
    "    torontodf = torontodf.append({'Postalcode': postcode,'Borough': borough,'Neighborhood': neighborhood},ignore_index=True)\n",
    "toronto = torontodf[torontodf.Borough!='Not assigned']\n",
    "toronto = toronto[toronto.Borough!= 0]\n",
    "toronto.reset_index(drop = True, inplace = True)\n",
    "i = 0\n",
    "for i in range(0,toronto.shape[0]):\n",
    "    if toronto.iloc[i][2] == 'Not assigned':\n",
    "        toronto.iloc[i][2] = toronto.iloc[i][1]\n",
    "        i = i+1\n",
    "                                 \n",
    "df = toronto.groupby(['Postalcode','Borough'])['Neighborhood'].apply(', '.join).reset_index()\n",
    "df.head()\n",
    "df = df.dropna()\n",
    "empty = 'Not assigned'\n",
    "df = df[(df.Postalcode != empty ) & (df.Borough != empty) & (df.Neighborhood != empty)\n",
    "df.head()\n",
    "        def neighborhood_list(grouped):    \n",
    "    return ', '.join(sorted(grouped['Neighborhood'].tolist()))\n",
    "                    \n",
    "grp = df.groupby(['Postalcode', 'Borough'])\n",
    "df = grp.apply(neighborhood_list).reset_index(name='Neighborhood')\n",
    "        print(df.shape)\n",
    "df.head(10)"
   ]
  }
 ],
 "metadata": {
  "kernelspec": {
   "display_name": "Python 3.6",
   "language": "python",
   "name": "python3"
  },
  "language_info": {
   "codemirror_mode": {
    "name": "ipython",
    "version": 3
   },
   "file_extension": ".py",
   "mimetype": "text/x-python",
   "name": "python",
   "nbconvert_exporter": "python",
   "pygments_lexer": "ipython3",
   "version": "3.6.9"
  }
 },
 "nbformat": 4,
 "nbformat_minor": 1
}
toronto_geocsv = 'https://cocl.us/Geospatial_data'
!wget -q -O 'toronto_m.geospatial_data.csv' toronto_geocsv
geocsv_data = pd.read_csv(toronto_geocsv).set_index("Postal Code")
geocsv_data.head()
dfile = pd.merge(geocsv_data, df, on='Postal Code')
dfile.head()
dfile = dfile[['Postal Code', 'Borough', 'Neighborhood', 'Latitude', 'Longitude']]
dfile.head(11)
dfile.to_csv('Toronto.TASK_II_df.csv',index=False)
dfile.shape
