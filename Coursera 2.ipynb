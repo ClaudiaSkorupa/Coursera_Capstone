{
 "cells": [
  {
   "cell_type": "code",
   "execution_count": null,
   "metadata": {
    "collapsed": true
   },
   "outputs": [],
   "source": [
    "toronto_geocsv = 'https://cocl.us/Geospatial_data'\n",
    "!wget -q -O 'toronto_m.geospatial_data.csv' toronto_geocsv\n",
    "geocsv_data = pd.read_csv(toronto_geocsv).set_index(\"Postal Code\")\n",
    "geocsv_data.head()\n",
    "dfile = pd.merge(geocsv_data, df, on='Postal Code')\n",
    "dfile.head()\n",
    "dfile = dfile[['Postal Code', 'Borough', 'Neighborhood', 'Latitude', 'Longitude']]\n",
    "dfile.head(11)\n",
    "dfile.to_csv('Toronto.TASK_II_df.csv',index=False)\n",
    "dfile.shape"
   ]
  },
  {
   "cell_type": "code",
   "execution_count": null,
   "metadata": {},
   "outputs": [],
   "source": []
  }
 ],
 "metadata": {
  "kernelspec": {
   "display_name": "Python 3.6",
   "language": "python",
   "name": "python3"
  },
  "language_info": {
   "codemirror_mode": {
    "name": "ipython",
    "version": 3
   },
   "file_extension": ".py",
   "mimetype": "text/x-python",
   "name": "python",
   "nbconvert_exporter": "python",
   "pygments_lexer": "ipython3",
   "version": "3.6.9"
  }
 },
 "nbformat": 4,
 "nbformat_minor": 1
}
