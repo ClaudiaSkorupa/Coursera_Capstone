{
 "cells": [
  {
   "cell_type": "markdown",
   "metadata": {},
   "source": [
    "# CHILDCARE FACILITIES\n",
    "First of all we have to find data which will help to solve this problem . \n",
    "The source of data is ONS (Office for National Statistics,https://data.london.gov.uk/dataset/pubs-clubs-restaurants-takeaways-borough ). \n",
    "Secondly , we <<clear >> the data because we want to have correct and useful data. After , we choose which data we are gonna use to analyze. \n",
    "Finally , we use the library seaborn and few methods to analyze the data. \n",
    "The conclusion of analyzing of data is that the areas which have the biggest number of borns are ‘London’ and ‘city of London. "
   ]
  },
  {
   "cell_type": "code",
   "execution_count": 35,
   "metadata": {},
   "outputs": [
    {
     "name": "stdout",
     "output_type": "stream",
     "text": [
      "<class 'pandas.core.frame.DataFrame'>\n",
      "RangeIndex: 4 entries, 1 to 4\n",
      "Data columns (total 2 columns):\n",
      "Area name    4 non-null object\n",
      "2001         4 non-null float64\n",
      "dtypes: float64(1), object(1)\n",
      "memory usage: 148.0+ bytes\n"
     ]
    },
    {
     "data": {
      "image/png": "[encoded data removed]",
      "text/plain": [
       "<Figure size 720x432 with 1 Axes>"
      ]
     },
     "metadata": {
      "needs_background": "light"
     },
     "output_type": "display_data"
    },
    {
     "data": {
      "text/plain": [
       "<matplotlib.axes._subplots.AxesSubplot at 0x7f5a1a77ca90>"
      ]
     },
     "execution_count": 35,
     "metadata": {},
     "output_type": "execute_result"
    },
    {
     "data": {
      "image/png": "[encoded data removed]",
      "text/plain": [
       "<Figure size 432x288 with 1 Axes>"
      ]
     },
     "metadata": {
      "needs_background": "light"
     },
     "output_type": "display_data"
    }
   ],
   "source": [
    "\n",
    "import requests \n",
    "import pandas as pd \n",
    "import numpy as np \n",
    "import random \n",
    "%matplotlib inline \n",
    "import matplotlib as mpl\n",
    "import matplotlib.pyplot as plt\n",
    "import matplotlib.cm as cm\n",
    "import matplotlib.colors as colors\n",
    "import pandas as pd\n",
    "\n",
    "def __iter__(self): return 0\n",
    "\n",
    "# @hidden_cell\n",
    "# The following code accesses a file in your IBM Cloud Object Storage. It includes your credentials.\n",
    "# You might want to remove those credentials before you share the notebook.\n",
    "client_e11594f5c7b24d648b715f6c8540768e = ibm_boto3.client(service_name='s3',\n",
    "    ibm_api_key_id='emawb47Qh1w5SC5l2xo0hLNXGbbBRO4DsynNpXd4ht8V',\n",
    "    ibm_auth_endpoint=\"https://iam.eu-gb.bluemix.net/oidc/token\",\n",
    "    config=Config(signature_version='oauth'),\n",
    "    endpoint_url='https://s3.eu-geo.objectstorage.service.networklayer.com')\n",
    "\n",
    "body = client_e11594f5c7b24d648b715f6c8540768e.get_object(Bucket='cour-donotdelete-pr-bzm9enjttrefej',Key='licensed-restaurants-cafes-borough.xlsx')['Body']\n",
    "# add missing __iter__ method, so pandas accepts body as file-like object\n",
    "if not hasattr(body, \"__iter__\"): body.__iter__ = types.MethodType( __iter__, body )\n",
    "\n",
    "df = pd.read_excel(body)\n",
    "df=df.iloc[1:5,1:3]\n",
    "df.info()\n",
    "df.describe()\n",
    "df.columns = list(map(str, df.columns))\n",
    "all(isinstance(column, str) for column in df.columns)\n",
    "\n",
    "dfp = df[['Area name','2001']]\n",
    "\n",
    "dfp.set_index('Area name',inplace = True)\n",
    "\n",
    "ax = dfp.plot(kind='bar', figsize=(10, 6), rot=0)\n",
    "\n",
    "ax.set_ylabel('Borns') # add to x-label to the plot\n",
    "ax.set_xlabel('Area') # add y-label to the plot\n",
    "ax.set_title('London') # add title to the plot\n",
    "\n",
    "# Creating a function to display the percentage.\n",
    "\n",
    "for p in ax.patches:\n",
    "    ax.annotate(np.round(p.get_height(),decimals=2), \n",
    "                (p.get_x()+p.get_width()/2., p.get_height()), \n",
    "                ha='center', \n",
    "                va='center', \n",
    "                xytext=(0, 10), \n",
    "                textcoords='offset points',\n",
    "                fontsize = 14\n",
    "               )\n",
    "\n",
    "plt.show()\n",
    "df.sort_values(['2001'], ascending = True, axis = 0, inplace = True )\n",
    "import seaborn as sns\n",
    "sns.distplot(df['2001'],bins=15)\n",
    "sns.boxplot(x='Area name', y= '2001', data=df)"
   ]
  },
  {
   "cell_type": "code",
   "execution_count": null,
   "metadata": {},
   "outputs": [],
   "source": []
  },
  {
   "cell_type": "code",
   "execution_count": null,
   "metadata": {},
   "outputs": [],
   "source": []
  },
  {
   "cell_type": "code",
   "execution_count": null,
   "metadata": {},
   "outputs": [],
   "source": []
  }
 ],
 "metadata": {
  "kernelspec": {
   "display_name": "Python 3.6",
   "language": "python",
   "name": "python3"
  },
  "language_info": {
   "codemirror_mode": {
    "name": "ipython",
    "version": 3
   },
   "file_extension": ".py",
   "mimetype": "text/x-python",
   "name": "python",
   "nbconvert_exporter": "python",
   "pygments_lexer": "ipython3",
   "version": "3.6.9"
  }
 },
 "nbformat": 4,
 "nbformat_minor": 1
}
